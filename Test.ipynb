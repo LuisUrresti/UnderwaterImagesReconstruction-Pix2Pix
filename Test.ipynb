{
  "nbformat": 4,
  "nbformat_minor": 0,
  "metadata": {
    "colab": {
      "name": "TFM_Complete_Try1.ipynb",
      "provenance": [],
      "toc_visible": true
    },
    "kernelspec": {
      "name": "python3",
      "display_name": "Python 3"
    },
    "accelerator": "GPU"
  },
  "cells": [
    {
      "cell_type": "markdown",
      "metadata": {
        "id": "gPip3OOm_v6U"
      },
      "source": [
        "# Reconstruccion de Imagenes Submarinas\n",
        "\n",
        "Este cuaderno se usa para comprobar la calidad de la reconstruccion de la red tanto en imagenes como en video"
      ]
    },
    {
      "cell_type": "markdown",
      "metadata": {
        "id": "eK0aTP36_9iP"
      },
      "source": [
        "**Librerias**"
      ]
    },
    {
      "cell_type": "code",
      "metadata": {
        "id": "9OMsFCy05Isw"
      },
      "source": [
        "import tensorflow as tf\n",
        "import matplotlib.pyplot as plt\n",
        "import numpy as np\n",
        "import cv2\n",
        "from google.colab.patches import cv2_imshow\n",
        "from IPython.display import clear_output\n",
        "from time import time\n",
        "%tensorflow_version 2.x"
      ],
      "execution_count": 2,
      "outputs": []
    },
    {
      "cell_type": "code",
      "metadata": {
        "id": "NAEwwDhT5YsF",
        "outputId": "48262ff9-a658-4938-88e4-1cd74bf6bd23",
        "colab": {
          "base_uri": "https://localhost:8080/",
          "height": 34
        }
      },
      "source": [
        "from google.colab import drive\n",
        "drive.mount('/content/drive')"
      ],
      "execution_count": 3,
      "outputs": [
        {
          "output_type": "stream",
          "text": [
            "Drive already mounted at /content/drive; to attempt to forcibly remount, call drive.mount(\"/content/drive\", force_remount=True).\n"
          ],
          "name": "stdout"
        }
      ]
    },
    {
      "cell_type": "markdown",
      "metadata": {
        "id": "2zjdWPQYALES"
      },
      "source": [
        "# **MODELO Y FUNCIONES**"
      ]
    },
    {
      "cell_type": "code",
      "metadata": {
        "id": "JyIDUuilAPAm"
      },
      "source": [
        "recons = tf.keras.models.load_model('/content/drive/My Drive/DeepLearning/ResultadosFinales/Modelos/SRreconsGAN.h5', compile = False)"
      ],
      "execution_count": 4,
      "outputs": []
    },
    {
      "cell_type": "code",
      "metadata": {
        "id": "sh-gByqRARL3"
      },
      "source": [
        "def resize(inimg, heigth, width):\n",
        "  inimg = tf.image.resize(inimg, [heigth, width])   # se transforma la imagen de entrada (la que se ve mal)\n",
        "  return inimg"
      ],
      "execution_count": 5,
      "outputs": []
    },
    {
      "cell_type": "code",
      "metadata": {
        "id": "S-6ebFLTAUOT"
      },
      "source": [
        "def modifyFrame(image):\n",
        "  image = cv2.cvtColor(image, cv2.COLOR_BGR2RGB)\n",
        "  imagenp = np.asarray(image, dtype=np.float32)\n",
        "  imagenp = resize(imagenp,256,256)\n",
        "  imagenp = (imagenp / 127.5) - 1 \n",
        "  imagenp = imagenp[np.newaxis,:,:,:]\n",
        "  return imagenp"
      ],
      "execution_count": 6,
      "outputs": []
    },
    {
      "cell_type": "code",
      "metadata": {
        "id": "_m5dGhEpAWnC"
      },
      "source": [
        "def remodifyFrame(image):\n",
        "  imagenp = image[0,:,:,:]\n",
        "  imagenp = (imagenp + 1) * 127.5\n",
        "  imagenp = np.asarray(imagenp, dtype=np.uint8)\n",
        "  imagenp = cv2.cvtColor(imagenp, cv2.COLOR_RGB2BGR)\n",
        "  return imagenp"
      ],
      "execution_count": 7,
      "outputs": []
    },
    {
      "cell_type": "code",
      "metadata": {
        "id": "Q7__OtKqAbdE"
      },
      "source": [
        "def reconsSR_image(image):\n",
        "  modFrame = modifyFrame(image)\n",
        "  reconsFrame = resize(modFrame,1024,1024)\n",
        "  srFrame = recons(reconsFrame)\n",
        "  frame = remodifyFrame(srFrame)\n",
        "  return frame"
      ],
      "execution_count": 8,
      "outputs": []
    },
    {
      "cell_type": "markdown",
      "metadata": {
        "id": "H-xMMTol0EUN"
      },
      "source": [
        "# **TIEMPO REAL (VIDEO)**"
      ]
    },
    {
      "cell_type": "code",
      "metadata": {
        "id": "_ym_FMqOgjNz",
        "outputId": "6f126349-9dca-4960-d848-1feac985d0e5",
        "colab": {
          "base_uri": "https://localhost:8080/",
          "height": 353
        }
      },
      "source": [
        "!nvidia-smi"
      ],
      "execution_count": 9,
      "outputs": [
        {
          "output_type": "stream",
          "text": [
            "Mon Oct  5 18:47:21 2020       \n",
            "+-----------------------------------------------------------------------------+\n",
            "| NVIDIA-SMI 455.23.05    Driver Version: 418.67       CUDA Version: 10.1     |\n",
            "|-------------------------------+----------------------+----------------------+\n",
            "| GPU  Name        Persistence-M| Bus-Id        Disp.A | Volatile Uncorr. ECC |\n",
            "| Fan  Temp  Perf  Pwr:Usage/Cap|         Memory-Usage | GPU-Util  Compute M. |\n",
            "|                               |                      |               MIG M. |\n",
            "|===============================+======================+======================|\n",
            "|   0  Tesla T4            Off  | 00000000:00:04.0 Off |                    0 |\n",
            "| N/A   52C    P0    29W /  70W |    739MiB / 15079MiB |      8%      Default |\n",
            "|                               |                      |                 ERR! |\n",
            "+-------------------------------+----------------------+----------------------+\n",
            "                                                                               \n",
            "+-----------------------------------------------------------------------------+\n",
            "| Processes:                                                                  |\n",
            "|  GPU   GI   CI        PID   Type   Process name                  GPU Memory |\n",
            "|        ID   ID                                                   Usage      |\n",
            "|=============================================================================|\n",
            "|  No running processes found                                                 |\n",
            "+-----------------------------------------------------------------------------+\n"
          ],
          "name": "stdout"
        }
      ]
    },
    {
      "cell_type": "code",
      "metadata": {
        "id": "XJVFzD_VxHwX"
      },
      "source": [
        "cap = cv2.VideoCapture('/content/drive/My Drive/DeepLearning/ResultadosFinales/FramesInput.avi')\n",
        "\n",
        "#width = int(cap.get(cv2.CAP_PROP_FRAME_WIDTH))\n",
        "#height = int(cap.get(cv2.CAP_PROP_FRAME_HEIGHT))\n",
        "#length = int(cap.get(cv2.CAP_PROP_FRAME_COUNT))\n",
        "#out = cv2.VideoWriter('/content/drive/My Drive/DeepLearning/ResultadosFinales/output.avi', cv2.VideoWriter_fourcc(*'mp4v'), 20.0, (width, height))\n",
        "i = 0\n",
        "sumtime = 0.0\n",
        "\n",
        "f = open(\"/content/drive/My Drive/DeepLearning/ResultadosFinales/time_process.log\",\"w\")\n",
        "while True:\n",
        "    res, video = cap.read()\n",
        "\n",
        "    if res == True:\n",
        "      start_time = time()\n",
        "      frame = reconsSR_image(video)\n",
        "      frame_time = time() - start_time\n",
        "      f.write(\"Frame \"+str(i)+\" - \"+str(frame_time)+\"\\n\")\n",
        "      i = i+1\n",
        "      sumtime = sumtime + frame_time\n",
        "      #cv2_imshow(frame)\n",
        "\n",
        "      if cv2.waitKey(1) & 0xFF == ord('x'):\n",
        "        break\n",
        "    else:\n",
        "      break\n",
        "\n",
        "f.write(\"Tiempo medio = \"+str(sumtime/i)+\"\\n\")\n",
        "f.write(\"FPS medio= \"+str(i/sumtime)+\"\\n\")\n",
        "cap.release()\n",
        "cv2.destroyAllWindows()\n",
        "f.close()\n"
      ],
      "execution_count": 11,
      "outputs": []
    },
    {
      "cell_type": "markdown",
      "metadata": {
        "id": "qW7Fyu1RU-nu"
      },
      "source": [
        "# **Reconstruccion de imagenes**\n"
      ]
    },
    {
      "cell_type": "code",
      "metadata": {
        "id": "VDh-Z1-gvyl8"
      },
      "source": [
        "i = cv2.imread('/content/drive/My Drive/DeepLearning/recons+sr/Input/Input/569.jpg')\n",
        "cv2_imshow(i)"
      ],
      "execution_count": null,
      "outputs": []
    },
    {
      "cell_type": "code",
      "metadata": {
        "id": "P-6zjhWkvwe-"
      },
      "source": [
        "img = reconsSR_image(i)\n",
        "cv2_imshow(img)"
      ],
      "execution_count": null,
      "outputs": []
    }
  ]
}